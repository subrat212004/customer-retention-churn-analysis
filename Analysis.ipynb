{
 "cells": [
  {
   "cell_type": "markdown",
   "id": "ab0cf0f0-446c-4b89-80fb-cd2bbe823b84",
   "metadata": {},
   "source": [
    "## Step 1: Load and Inspect the Dataset\n",
    "\n",
    "In this step, we load the dataset into a Pandas DataFrame and conduct an initial exploration. We want to understand the structure of the data, identify the types of variables available, and look for any missing values or unusual patterns.\n",
    "\n",
    "This helps us plan our data cleaning and feature engineering steps.\n"
   ]
  },
  {
   "cell_type": "code",
   "execution_count": 1,
   "id": "27082b03-98ef-4bdd-a645-185c19148699",
   "metadata": {},
   "outputs": [],
   "source": [
    "import pandas as pd\n",
    "import numpy as np\n",
    "from urllib.request import urlretrieve\n",
    "import matplotlib.pyplot as plt\n",
    "import seaborn as sns\n",
    "%matplotlib inline"
   ]
  },
  {
   "cell_type": "code",
   "execution_count": 2,
   "id": "774334fe-34b8-45a0-9a49-cec5c839ffe4",
   "metadata": {},
   "outputs": [],
   "source": [
    "import warnings\n",
    "warnings.filterwarnings('ignore')"
   ]
  },
  {
   "cell_type": "code",
   "execution_count": 4,
   "id": "f66cc7e5-b710-4829-8a03-3ffb2fcfade0",
   "metadata": {},
   "outputs": [
    {
     "data": {
      "text/html": [
       "<div>\n",
       "<style scoped>\n",
       "    .dataframe tbody tr th:only-of-type {\n",
       "        vertical-align: middle;\n",
       "    }\n",
       "\n",
       "    .dataframe tbody tr th {\n",
       "        vertical-align: top;\n",
       "    }\n",
       "\n",
       "    .dataframe thead th {\n",
       "        text-align: right;\n",
       "    }\n",
       "</style>\n",
       "<table border=\"1\" class=\"dataframe\">\n",
       "  <thead>\n",
       "    <tr style=\"text-align: right;\">\n",
       "      <th></th>\n",
       "      <th>AccountAge</th>\n",
       "      <th>MonthlyCharges</th>\n",
       "      <th>TotalCharges</th>\n",
       "      <th>SubscriptionType</th>\n",
       "      <th>PaymentMethod</th>\n",
       "      <th>PaperlessBilling</th>\n",
       "      <th>ContentType</th>\n",
       "      <th>MultiDeviceAccess</th>\n",
       "      <th>DeviceRegistered</th>\n",
       "      <th>ViewingHoursPerWeek</th>\n",
       "      <th>...</th>\n",
       "      <th>ContentDownloadsPerMonth</th>\n",
       "      <th>GenrePreference</th>\n",
       "      <th>UserRating</th>\n",
       "      <th>SupportTicketsPerMonth</th>\n",
       "      <th>Gender</th>\n",
       "      <th>WatchlistSize</th>\n",
       "      <th>ParentalControl</th>\n",
       "      <th>SubtitlesEnabled</th>\n",
       "      <th>CustomerID</th>\n",
       "      <th>Churn</th>\n",
       "    </tr>\n",
       "  </thead>\n",
       "  <tbody>\n",
       "    <tr>\n",
       "      <th>0</th>\n",
       "      <td>42</td>\n",
       "      <td>11.321950</td>\n",
       "      <td>475.521914</td>\n",
       "      <td>Basic</td>\n",
       "      <td>Electronic check</td>\n",
       "      <td>Yes</td>\n",
       "      <td>Movies</td>\n",
       "      <td>Yes</td>\n",
       "      <td>Tablet</td>\n",
       "      <td>0.386852</td>\n",
       "      <td>...</td>\n",
       "      <td>25</td>\n",
       "      <td>Comedy</td>\n",
       "      <td>3.489465</td>\n",
       "      <td>7</td>\n",
       "      <td>Female</td>\n",
       "      <td>15</td>\n",
       "      <td>No</td>\n",
       "      <td>No</td>\n",
       "      <td>LOHRYYC9E8</td>\n",
       "      <td>0</td>\n",
       "    </tr>\n",
       "    <tr>\n",
       "      <th>1</th>\n",
       "      <td>95</td>\n",
       "      <td>12.810915</td>\n",
       "      <td>1217.036887</td>\n",
       "      <td>Standard</td>\n",
       "      <td>Electronic check</td>\n",
       "      <td>Yes</td>\n",
       "      <td>TV Shows</td>\n",
       "      <td>No</td>\n",
       "      <td>Mobile</td>\n",
       "      <td>37.123000</td>\n",
       "      <td>...</td>\n",
       "      <td>21</td>\n",
       "      <td>Comedy</td>\n",
       "      <td>2.251860</td>\n",
       "      <td>3</td>\n",
       "      <td>Male</td>\n",
       "      <td>8</td>\n",
       "      <td>No</td>\n",
       "      <td>NaN</td>\n",
       "      <td>RIH7RFEZCS</td>\n",
       "      <td>0</td>\n",
       "    </tr>\n",
       "    <tr>\n",
       "      <th>2</th>\n",
       "      <td>6</td>\n",
       "      <td>NaN</td>\n",
       "      <td>91.583304</td>\n",
       "      <td>Standard</td>\n",
       "      <td>Credit card</td>\n",
       "      <td>Yes</td>\n",
       "      <td>TV Shows</td>\n",
       "      <td>No</td>\n",
       "      <td>Tablet</td>\n",
       "      <td>30.716944</td>\n",
       "      <td>...</td>\n",
       "      <td>29</td>\n",
       "      <td>Fantasy</td>\n",
       "      <td>NaN</td>\n",
       "      <td>4</td>\n",
       "      <td>Male</td>\n",
       "      <td>14</td>\n",
       "      <td>No</td>\n",
       "      <td>Yes</td>\n",
       "      <td>JB5J8X2UY1</td>\n",
       "      <td>1</td>\n",
       "    </tr>\n",
       "    <tr>\n",
       "      <th>3</th>\n",
       "      <td>54</td>\n",
       "      <td>17.917819</td>\n",
       "      <td>967.562224</td>\n",
       "      <td>Basic</td>\n",
       "      <td>NaN</td>\n",
       "      <td>Yes</td>\n",
       "      <td>Movies</td>\n",
       "      <td>No</td>\n",
       "      <td>Mobile</td>\n",
       "      <td>2.495373</td>\n",
       "      <td>...</td>\n",
       "      <td>45</td>\n",
       "      <td>Drama</td>\n",
       "      <td>1.275004</td>\n",
       "      <td>3</td>\n",
       "      <td>Male</td>\n",
       "      <td>12</td>\n",
       "      <td>No</td>\n",
       "      <td>NaN</td>\n",
       "      <td>Z4GZJIB90P</td>\n",
       "      <td>0</td>\n",
       "    </tr>\n",
       "    <tr>\n",
       "      <th>4</th>\n",
       "      <td>27</td>\n",
       "      <td>NaN</td>\n",
       "      <td>339.057244</td>\n",
       "      <td>Basic</td>\n",
       "      <td>Mailed check</td>\n",
       "      <td>No</td>\n",
       "      <td>TV Shows</td>\n",
       "      <td>No</td>\n",
       "      <td>Mobile</td>\n",
       "      <td>39.936910</td>\n",
       "      <td>...</td>\n",
       "      <td>44</td>\n",
       "      <td>Comedy</td>\n",
       "      <td>3.236230</td>\n",
       "      <td>4</td>\n",
       "      <td>Female</td>\n",
       "      <td>18</td>\n",
       "      <td>No</td>\n",
       "      <td>NaN</td>\n",
       "      <td>B3BDJTW0L9</td>\n",
       "      <td>0</td>\n",
       "    </tr>\n",
       "    <tr>\n",
       "      <th>5</th>\n",
       "      <td>71</td>\n",
       "      <td>NaN</td>\n",
       "      <td>818.287054</td>\n",
       "      <td>Premium</td>\n",
       "      <td>Credit card</td>\n",
       "      <td>No</td>\n",
       "      <td>Movies</td>\n",
       "      <td>Yes</td>\n",
       "      <td>Computer</td>\n",
       "      <td>7.310172</td>\n",
       "      <td>...</td>\n",
       "      <td>30</td>\n",
       "      <td>Comedy</td>\n",
       "      <td>2.779614</td>\n",
       "      <td>6</td>\n",
       "      <td>Female</td>\n",
       "      <td>16</td>\n",
       "      <td>Yes</td>\n",
       "      <td>NaN</td>\n",
       "      <td>5E4TQK5OVX</td>\n",
       "      <td>0</td>\n",
       "    </tr>\n",
       "    <tr>\n",
       "      <th>6</th>\n",
       "      <td>69</td>\n",
       "      <td>17.145910</td>\n",
       "      <td>1183.067820</td>\n",
       "      <td>Basic</td>\n",
       "      <td>NaN</td>\n",
       "      <td>No</td>\n",
       "      <td>Movies</td>\n",
       "      <td>Yes</td>\n",
       "      <td>Mobile</td>\n",
       "      <td>19.008900</td>\n",
       "      <td>...</td>\n",
       "      <td>35</td>\n",
       "      <td>Sci-Fi</td>\n",
       "      <td>4.933494</td>\n",
       "      <td>6</td>\n",
       "      <td>Female</td>\n",
       "      <td>5</td>\n",
       "      <td>No</td>\n",
       "      <td>Yes</td>\n",
       "      <td>8VFNZ1M1I9</td>\n",
       "      <td>1</td>\n",
       "    </tr>\n",
       "    <tr>\n",
       "      <th>7</th>\n",
       "      <td>76</td>\n",
       "      <td>17.461875</td>\n",
       "      <td>1327.102526</td>\n",
       "      <td>Premium</td>\n",
       "      <td>Electronic check</td>\n",
       "      <td>No</td>\n",
       "      <td>Movies</td>\n",
       "      <td>Yes</td>\n",
       "      <td>Mobile</td>\n",
       "      <td>24.429413</td>\n",
       "      <td>...</td>\n",
       "      <td>32</td>\n",
       "      <td>Fantasy</td>\n",
       "      <td>2.154737</td>\n",
       "      <td>9</td>\n",
       "      <td>Female</td>\n",
       "      <td>11</td>\n",
       "      <td>Yes</td>\n",
       "      <td>Yes</td>\n",
       "      <td>THKWUHOGUL</td>\n",
       "      <td>0</td>\n",
       "    </tr>\n",
       "    <tr>\n",
       "      <th>8</th>\n",
       "      <td>8</td>\n",
       "      <td>NaN</td>\n",
       "      <td>NaN</td>\n",
       "      <td>Premium</td>\n",
       "      <td>Electronic check</td>\n",
       "      <td>No</td>\n",
       "      <td>Both</td>\n",
       "      <td>Yes</td>\n",
       "      <td>Computer</td>\n",
       "      <td>15.488913</td>\n",
       "      <td>...</td>\n",
       "      <td>16</td>\n",
       "      <td>Fantasy</td>\n",
       "      <td>NaN</td>\n",
       "      <td>3</td>\n",
       "      <td>Female</td>\n",
       "      <td>2</td>\n",
       "      <td>No</td>\n",
       "      <td>Yes</td>\n",
       "      <td>IGZ39O1ROC</td>\n",
       "      <td>0</td>\n",
       "    </tr>\n",
       "    <tr>\n",
       "      <th>9</th>\n",
       "      <td>26</td>\n",
       "      <td>19.699262</td>\n",
       "      <td>512.180802</td>\n",
       "      <td>Premium</td>\n",
       "      <td>Credit card</td>\n",
       "      <td>Yes</td>\n",
       "      <td>Both</td>\n",
       "      <td>Yes</td>\n",
       "      <td>NaN</td>\n",
       "      <td>2.121762</td>\n",
       "      <td>...</td>\n",
       "      <td>44</td>\n",
       "      <td>Drama</td>\n",
       "      <td>1.725700</td>\n",
       "      <td>4</td>\n",
       "      <td>Male</td>\n",
       "      <td>16</td>\n",
       "      <td>Yes</td>\n",
       "      <td>NaN</td>\n",
       "      <td>JHTQYVGRR4</td>\n",
       "      <td>1</td>\n",
       "    </tr>\n",
       "  </tbody>\n",
       "</table>\n",
       "<p>10 rows × 21 columns</p>\n",
       "</div>"
      ],
      "text/plain": [
       "   AccountAge  MonthlyCharges  TotalCharges SubscriptionType  \\\n",
       "0          42       11.321950    475.521914            Basic   \n",
       "1          95       12.810915   1217.036887         Standard   \n",
       "2           6             NaN     91.583304         Standard   \n",
       "3          54       17.917819    967.562224            Basic   \n",
       "4          27             NaN    339.057244            Basic   \n",
       "5          71             NaN    818.287054          Premium   \n",
       "6          69       17.145910   1183.067820            Basic   \n",
       "7          76       17.461875   1327.102526          Premium   \n",
       "8           8             NaN           NaN          Premium   \n",
       "9          26       19.699262    512.180802          Premium   \n",
       "\n",
       "      PaymentMethod PaperlessBilling ContentType MultiDeviceAccess  \\\n",
       "0  Electronic check              Yes      Movies               Yes   \n",
       "1  Electronic check              Yes    TV Shows                No   \n",
       "2       Credit card              Yes    TV Shows                No   \n",
       "3               NaN              Yes      Movies                No   \n",
       "4      Mailed check               No    TV Shows                No   \n",
       "5       Credit card               No      Movies               Yes   \n",
       "6               NaN               No      Movies               Yes   \n",
       "7  Electronic check               No      Movies               Yes   \n",
       "8  Electronic check               No        Both               Yes   \n",
       "9       Credit card              Yes        Both               Yes   \n",
       "\n",
       "  DeviceRegistered  ViewingHoursPerWeek  ...  ContentDownloadsPerMonth  \\\n",
       "0           Tablet             0.386852  ...                        25   \n",
       "1           Mobile            37.123000  ...                        21   \n",
       "2           Tablet            30.716944  ...                        29   \n",
       "3           Mobile             2.495373  ...                        45   \n",
       "4           Mobile            39.936910  ...                        44   \n",
       "5         Computer             7.310172  ...                        30   \n",
       "6           Mobile            19.008900  ...                        35   \n",
       "7           Mobile            24.429413  ...                        32   \n",
       "8         Computer            15.488913  ...                        16   \n",
       "9              NaN             2.121762  ...                        44   \n",
       "\n",
       "   GenrePreference UserRating  SupportTicketsPerMonth  Gender WatchlistSize  \\\n",
       "0           Comedy   3.489465                       7  Female            15   \n",
       "1           Comedy   2.251860                       3    Male             8   \n",
       "2          Fantasy        NaN                       4    Male            14   \n",
       "3            Drama   1.275004                       3    Male            12   \n",
       "4           Comedy   3.236230                       4  Female            18   \n",
       "5           Comedy   2.779614                       6  Female            16   \n",
       "6           Sci-Fi   4.933494                       6  Female             5   \n",
       "7          Fantasy   2.154737                       9  Female            11   \n",
       "8          Fantasy        NaN                       3  Female             2   \n",
       "9            Drama   1.725700                       4    Male            16   \n",
       "\n",
       "   ParentalControl SubtitlesEnabled  CustomerID Churn  \n",
       "0               No               No  LOHRYYC9E8     0  \n",
       "1               No              NaN  RIH7RFEZCS     0  \n",
       "2               No              Yes  JB5J8X2UY1     1  \n",
       "3               No              NaN  Z4GZJIB90P     0  \n",
       "4               No              NaN  B3BDJTW0L9     0  \n",
       "5              Yes              NaN  5E4TQK5OVX     0  \n",
       "6               No              Yes  8VFNZ1M1I9     1  \n",
       "7              Yes              Yes  THKWUHOGUL     0  \n",
       "8               No              Yes  IGZ39O1ROC     0  \n",
       "9              Yes              NaN  JHTQYVGRR4     1  \n",
       "\n",
       "[10 rows x 21 columns]"
      ]
     },
     "execution_count": 4,
     "metadata": {},
     "output_type": "execute_result"
    }
   ],
   "source": [
    "file=pd.read_csv(r\"E:\\churn project\\original data.csv\")\n",
    "file.head(10)"
   ]
  },
  {
   "cell_type": "markdown",
   "id": "dd0dd9c8-7133-4ddf-bd6c-0006bc0d2c19",
   "metadata": {},
   "source": [
    "## Step 2: Data Cleaning & Feature Engineering\n",
    "\n",
    "\n",
    "\n",
    "\n",
    "- Ensure `AccountAge` is numeric\n",
    "- Check for and handle missing values\n",
    "- Extract useful insights from categorical features (like subscription type, device access, genre preference, etc.)\n",
    "- Remove the uneccessary rows\n"
   ]
  },
  {
   "cell_type": "code",
   "execution_count": 5,
   "id": "26722cf5-e44b-45f8-9447-84cc7e6a931a",
   "metadata": {},
   "outputs": [
    {
     "data": {
      "text/plain": [
       "Index(['AccountAge', 'MonthlyCharges', 'TotalCharges', 'SubscriptionType',\n",
       "       'PaymentMethod', 'PaperlessBilling', 'ContentType', 'MultiDeviceAccess',\n",
       "       'DeviceRegistered', 'ViewingHoursPerWeek', 'AverageViewingDuration',\n",
       "       'ContentDownloadsPerMonth', 'GenrePreference', 'UserRating',\n",
       "       'SupportTicketsPerMonth', 'Gender', 'WatchlistSize', 'ParentalControl',\n",
       "       'SubtitlesEnabled', 'CustomerID', 'Churn'],\n",
       "      dtype='object')"
      ]
     },
     "execution_count": 5,
     "metadata": {},
     "output_type": "execute_result"
    }
   ],
   "source": [
    "file.columns"
   ]
  },
  {
   "cell_type": "code",
   "execution_count": 6,
   "id": "8b0d8b98-2823-4555-ab3b-ea99f0559119",
   "metadata": {},
   "outputs": [
    {
     "data": {
      "text/plain": [
       "(963, 21)"
      ]
     },
     "execution_count": 6,
     "metadata": {},
     "output_type": "execute_result"
    }
   ],
   "source": [
    "file.shape"
   ]
  },
  {
   "cell_type": "code",
   "execution_count": 9,
   "id": "5f39945e-8f91-4c7d-9918-4ce0a2841e60",
   "metadata": {},
   "outputs": [
    {
     "data": {
      "text/html": [
       "<div>\n",
       "<style scoped>\n",
       "    .dataframe tbody tr th:only-of-type {\n",
       "        vertical-align: middle;\n",
       "    }\n",
       "\n",
       "    .dataframe tbody tr th {\n",
       "        vertical-align: top;\n",
       "    }\n",
       "\n",
       "    .dataframe thead th {\n",
       "        text-align: right;\n",
       "    }\n",
       "</style>\n",
       "<table border=\"1\" class=\"dataframe\">\n",
       "  <thead>\n",
       "    <tr style=\"text-align: right;\">\n",
       "      <th></th>\n",
       "      <th>AccountAge</th>\n",
       "      <th>MonthlyCharges</th>\n",
       "      <th>TotalCharges</th>\n",
       "      <th>ViewingHoursPerWeek</th>\n",
       "      <th>AverageViewingDuration</th>\n",
       "      <th>ContentDownloadsPerMonth</th>\n",
       "      <th>UserRating</th>\n",
       "      <th>SupportTicketsPerMonth</th>\n",
       "      <th>WatchlistSize</th>\n",
       "      <th>Churn</th>\n",
       "    </tr>\n",
       "  </thead>\n",
       "  <tbody>\n",
       "    <tr>\n",
       "      <th>count</th>\n",
       "      <td>963.000000</td>\n",
       "      <td>759.000000</td>\n",
       "      <td>777.000000</td>\n",
       "      <td>963.000000</td>\n",
       "      <td>963.000000</td>\n",
       "      <td>963.000000</td>\n",
       "      <td>702.000000</td>\n",
       "      <td>963.000000</td>\n",
       "      <td>963.000000</td>\n",
       "      <td>963.000000</td>\n",
       "    </tr>\n",
       "    <tr>\n",
       "      <th>mean</th>\n",
       "      <td>57.515057</td>\n",
       "      <td>12.328262</td>\n",
       "      <td>714.052121</td>\n",
       "      <td>21.029241</td>\n",
       "      <td>90.741877</td>\n",
       "      <td>24.694704</td>\n",
       "      <td>2.923945</td>\n",
       "      <td>4.455867</td>\n",
       "      <td>11.900312</td>\n",
       "      <td>0.175493</td>\n",
       "    </tr>\n",
       "    <tr>\n",
       "      <th>std</th>\n",
       "      <td>33.662575</td>\n",
       "      <td>4.260861</td>\n",
       "      <td>511.071322</td>\n",
       "      <td>11.318164</td>\n",
       "      <td>49.923719</td>\n",
       "      <td>14.319572</td>\n",
       "      <td>1.165992</td>\n",
       "      <td>2.935706</td>\n",
       "      <td>7.117402</td>\n",
       "      <td>0.380586</td>\n",
       "    </tr>\n",
       "    <tr>\n",
       "      <th>min</th>\n",
       "      <td>1.000000</td>\n",
       "      <td>5.062339</td>\n",
       "      <td>11.582882</td>\n",
       "      <td>0.315317</td>\n",
       "      <td>5.028412</td>\n",
       "      <td>0.000000</td>\n",
       "      <td>1.000181</td>\n",
       "      <td>0.000000</td>\n",
       "      <td>0.000000</td>\n",
       "      <td>0.000000</td>\n",
       "    </tr>\n",
       "    <tr>\n",
       "      <th>25%</th>\n",
       "      <td>29.000000</td>\n",
       "      <td>8.816669</td>\n",
       "      <td>318.425396</td>\n",
       "      <td>11.621961</td>\n",
       "      <td>47.777701</td>\n",
       "      <td>13.000000</td>\n",
       "      <td>1.922235</td>\n",
       "      <td>2.000000</td>\n",
       "      <td>6.000000</td>\n",
       "      <td>0.000000</td>\n",
       "    </tr>\n",
       "    <tr>\n",
       "      <th>50%</th>\n",
       "      <td>55.000000</td>\n",
       "      <td>12.169888</td>\n",
       "      <td>614.196606</td>\n",
       "      <td>21.334100</td>\n",
       "      <td>89.878241</td>\n",
       "      <td>25.000000</td>\n",
       "      <td>2.898328</td>\n",
       "      <td>5.000000</td>\n",
       "      <td>12.000000</td>\n",
       "      <td>0.000000</td>\n",
       "    </tr>\n",
       "    <tr>\n",
       "      <th>75%</th>\n",
       "      <td>86.000000</td>\n",
       "      <td>15.937606</td>\n",
       "      <td>1021.436452</td>\n",
       "      <td>30.419851</td>\n",
       "      <td>134.353824</td>\n",
       "      <td>37.000000</td>\n",
       "      <td>3.953953</td>\n",
       "      <td>7.000000</td>\n",
       "      <td>18.000000</td>\n",
       "      <td>0.000000</td>\n",
       "    </tr>\n",
       "    <tr>\n",
       "      <th>max</th>\n",
       "      <td>119.000000</td>\n",
       "      <td>19.932542</td>\n",
       "      <td>2261.019201</td>\n",
       "      <td>39.949086</td>\n",
       "      <td>179.752024</td>\n",
       "      <td>49.000000</td>\n",
       "      <td>4.997348</td>\n",
       "      <td>9.000000</td>\n",
       "      <td>24.000000</td>\n",
       "      <td>1.000000</td>\n",
       "    </tr>\n",
       "  </tbody>\n",
       "</table>\n",
       "</div>"
      ],
      "text/plain": [
       "       AccountAge  MonthlyCharges  TotalCharges  ViewingHoursPerWeek  \\\n",
       "count  963.000000      759.000000    777.000000           963.000000   \n",
       "mean    57.515057       12.328262    714.052121            21.029241   \n",
       "std     33.662575        4.260861    511.071322            11.318164   \n",
       "min      1.000000        5.062339     11.582882             0.315317   \n",
       "25%     29.000000        8.816669    318.425396            11.621961   \n",
       "50%     55.000000       12.169888    614.196606            21.334100   \n",
       "75%     86.000000       15.937606   1021.436452            30.419851   \n",
       "max    119.000000       19.932542   2261.019201            39.949086   \n",
       "\n",
       "       AverageViewingDuration  ContentDownloadsPerMonth  UserRating  \\\n",
       "count              963.000000                963.000000  702.000000   \n",
       "mean                90.741877                 24.694704    2.923945   \n",
       "std                 49.923719                 14.319572    1.165992   \n",
       "min                  5.028412                  0.000000    1.000181   \n",
       "25%                 47.777701                 13.000000    1.922235   \n",
       "50%                 89.878241                 25.000000    2.898328   \n",
       "75%                134.353824                 37.000000    3.953953   \n",
       "max                179.752024                 49.000000    4.997348   \n",
       "\n",
       "       SupportTicketsPerMonth  WatchlistSize       Churn  \n",
       "count              963.000000     963.000000  963.000000  \n",
       "mean                 4.455867      11.900312    0.175493  \n",
       "std                  2.935706       7.117402    0.380586  \n",
       "min                  0.000000       0.000000    0.000000  \n",
       "25%                  2.000000       6.000000    0.000000  \n",
       "50%                  5.000000      12.000000    0.000000  \n",
       "75%                  7.000000      18.000000    0.000000  \n",
       "max                  9.000000      24.000000    1.000000  "
      ]
     },
     "execution_count": 9,
     "metadata": {},
     "output_type": "execute_result"
    }
   ],
   "source": [
    "file.describe()"
   ]
  },
  {
   "cell_type": "code",
   "execution_count": 17,
   "id": "627cde33-a3c4-43b3-a860-37e49978a913",
   "metadata": {},
   "outputs": [
    {
     "data": {
      "text/plain": [
       "AccountAge                    0\n",
       "MonthlyCharges              204\n",
       "TotalCharges                186\n",
       "SubscriptionType             50\n",
       "PaymentMethod               223\n",
       "PaperlessBilling              0\n",
       "ContentType                   0\n",
       "MultiDeviceAccess             0\n",
       "DeviceRegistered             76\n",
       "ViewingHoursPerWeek           0\n",
       "AverageViewingDuration        0\n",
       "ContentDownloadsPerMonth      0\n",
       "GenrePreference             110\n",
       "UserRating                  261\n",
       "SupportTicketsPerMonth        0\n",
       "Gender                       40\n",
       "WatchlistSize                 0\n",
       "ParentalControl               0\n",
       "SubtitlesEnabled            800\n",
       "CustomerID                    0\n",
       "Churn                         0\n",
       "dtype: int64"
      ]
     },
     "execution_count": 17,
     "metadata": {},
     "output_type": "execute_result"
    }
   ],
   "source": [
    "file.AccountAge=pd.to_numeric(file.AccountAge,errors='coerce');\n",
    "file.isnull().sum()"
   ]
  },
  {
   "cell_type": "markdown",
   "id": "99bf75fd-115b-488d-b6c1-481e9a0532ce",
   "metadata": {},
   "source": [
    "### Handling Missing Values\n",
    "\n",
    "Several columns had missing values. Here's how we approached them:\n",
    "\n",
    "- For **categorical features** like `SubscriptionType`, `PaymentMethod`, and `GenrePreference`, we filled missing values with `\"Unknown\"` to retain those records for analysis.\n",
    "- For **numeric columns** like `MonthlyCharges` and `TotalCharges`, we filled missing values using the median to reduce the effect of outliers.\n",
    "- Columns with very high missing values (like `SubtitlesEnabled`, with 800 nulls) were dropped \n",
    "\n",
    "This ensures we preserve as much data as possible while maintaining quality for modeling and visualization.\n"
   ]
  },
  {
   "cell_type": "code",
   "execution_count": 24,
   "id": "c58d1a8a-927e-4e30-88db-22306d5bf1f6",
   "metadata": {},
   "outputs": [],
   "source": [
    "#handling missing data\n",
    "categorical_data=['SubscriptionType','PaymentMethod', 'GenrePreference','DeviceRegistered','Gender']\n",
    "file[categorical_data]=file[categorical_data].fillna('unknown')\n",
    "numeric_data=['MonthlyCharges','TotalCharges','UserRating']\n",
    "for col in numeric_data:\n",
    "    file[col]=file[col].fillna(file[col].median())\n",
    "file.drop(columns=['SubtitlesEnabled'],inplace=True)\n"
   ]
  },
  {
   "cell_type": "code",
   "execution_count": 25,
   "id": "56330a5e-1889-4f6c-8e02-a44821b38abf",
   "metadata": {
    "scrolled": true
   },
   "outputs": [
    {
     "data": {
      "text/plain": [
       "AccountAge                  0\n",
       "MonthlyCharges              0\n",
       "TotalCharges                0\n",
       "SubscriptionType            0\n",
       "PaymentMethod               0\n",
       "PaperlessBilling            0\n",
       "ContentType                 0\n",
       "MultiDeviceAccess           0\n",
       "DeviceRegistered            0\n",
       "ViewingHoursPerWeek         0\n",
       "AverageViewingDuration      0\n",
       "ContentDownloadsPerMonth    0\n",
       "GenrePreference             0\n",
       "UserRating                  0\n",
       "SupportTicketsPerMonth      0\n",
       "Gender                      0\n",
       "WatchlistSize               0\n",
       "ParentalControl             0\n",
       "CustomerID                  0\n",
       "Churn                       0\n",
       "dtype: int64"
      ]
     },
     "execution_count": 25,
     "metadata": {},
     "output_type": "execute_result"
    }
   ],
   "source": [
    "#checking for finnal missing datas\n",
    "file.isnull().sum()"
   ]
  },
  {
   "cell_type": "code",
   "execution_count": 256,
   "id": "8e11a94f-05f8-4461-8b0e-f3ce2e222451",
   "metadata": {},
   "outputs": [],
   "source": [
    "file.TotalCharges=pd.to_numeric(file.TotalCharges,errors='coerce')"
   ]
  },
  {
   "cell_type": "code",
   "execution_count": 257,
   "id": "c43cb9ba-726a-4992-99a2-4840ba6969cc",
   "metadata": {},
   "outputs": [],
   "source": [
    "file.to_csv('cleaned_data.csv',index=None)"
   ]
  },
  {
   "cell_type": "markdown",
   "id": "2faaf213-6942-4a78-b1a6-c3c025bf6ebc",
   "metadata": {},
   "source": [
    "## Step 3: Exploratory Data Analysis (EDA)\n",
    "\n",
    "In this step, we investigate the factors contributing to churn. We aim to identify behavioral and demographic patterns that distinguish churned users from retained ones.\n",
    "\n",
    "Key relationships explored include:\n",
    "- Churn distribution overall\n",
    "- Churn by subscription type and payment method\n",
    "- Viewing behavior and customer service interactions\n",
    "- Account age and usage patterns\n",
    "\n",
    "These insights are essential for building data-driven retention strategies.\n"
   ]
  },
  {
   "cell_type": "markdown",
   "id": "f4831658-4253-46f9-9388-1ce98ef25eba",
   "metadata": {},
   "source": [
    "### Churn Distribution (Counts and Rate)\n",
    "\n",
    "Before diving into visualizations, we begin with a simple summary to understand how many users churned and how many were retained.\n",
    "\n",
    "This gives us the churn rate — a key business metric.\n",
    "- lets find out the churned rate\n"
   ]
  },
  {
   "cell_type": "code",
   "execution_count": 45,
   "id": "e1ddec65-fd87-45ac-ba5e-bde3a78afe53",
   "metadata": {},
   "outputs": [
    {
     "name": "stdout",
     "output_type": "stream",
     "text": [
      "Churned is  169\n",
      "Total retained customers are  794\n",
      "The total customers are 963\n",
      "The churn Rate is  18.0 %\n"
     ]
    }
   ],
   "source": [
    "churn=file.Churn.value_counts().reset_index()\n",
    "churn.columns=['Type','count']\n",
    "cancelled=churn[churn['Type']==1]['count'].sum()\n",
    "not_cancelled=churn[churn['Type']==0]['count'].sum()\n",
    "total=churn['count'].sum()\n",
    "churn_rate=round((cancelled/total),2)*100;\n",
    "print('Churned is ',cancelled)\n",
    "print('Total retained customers are ',not_cancelled)\n",
    "print('The total customers are',total)\n",
    "print('The churn Rate is ',churn_rate,'%');"
   ]
  },
  {
   "cell_type": "markdown",
   "id": "a739967c-bb20-49ed-a0a1-65185b9de7f4",
   "metadata": {},
   "source": [
    "# The Churned rate is 18 percent\n",
    "- out of 963 customers 794 retained\n",
    "# Lets visualise The Churn Rate"
   ]
  },
  {
   "cell_type": "code",
   "execution_count": 61,
   "id": "a046a3c0-85e7-4afb-8dd6-b61d604fed8c",
   "metadata": {},
   "outputs": [
    {
     "data": {
      "image/png": "[encoded data removed]",
      "text/plain": [
       "<Figure size 600x400 with 1 Axes>"
      ]
     },
     "metadata": {},
     "output_type": "display_data"
    }
   ],
   "source": [
    "plt.figure(figsize=(6,4))\n",
    "sns.countplot(data=file,x='Churn',palette='Set2',hue='Churn')\n",
    "plt.title('Churn vs Retention Distribution')\n",
    "plt.xlabel('Customer Status')\n",
    "plt.ylabel('Number of Users')\n",
    "plt.xticks([0,1],['Retained','Churned'])\n",
    "plt.legend(['Retained','Churned'])\n",
    "plt.grid(axis='y', linestyle='--', alpha=0.7)\n",
    "\n"
   ]
  },
  {
   "cell_type": "markdown",
   "id": "597f44f3-bee5-4f87-bd42-ab8545ccc686",
   "metadata": {},
   "source": [
    "### Churn by Subscription Type\n",
    "\n",
    "Subscription tiers can play a major role in customer retention. Here, we analyze how churn varies across different subscription types.\n",
    "\n",
    "This helps answer:\n",
    "- Are users on basic plans more likely to churn?\n",
    "- Does a premium plan offer better stickiness?\n"
   ]
  },
  {
   "cell_type": "code",
   "execution_count": 79,
   "id": "954a135a-6a30-407d-8952-97d2312f40cb",
   "metadata": {},
   "outputs": [
    {
     "name": "stdout",
     "output_type": "stream",
     "text": [
      "                  Retained  Churned  Churn Rate%\n",
      "SubscriptionType                                \n",
      "Basic                  238       55        11.55\n",
      "Premium                277       56        10.11\n",
      "Standard               240       47         9.79\n",
      "unknown                 39       11        14.10\n"
     ]
    }
   ],
   "source": [
    "#churn rate for the subscription types \n",
    "subscription_churn = file.groupby(['SubscriptionType', 'Churn']).size().unstack().fillna(0)\n",
    "subscription_churn.columns=['Retained','Churned']\n",
    "subscription_churn['Churn Rate%']=round((subscription_churn['Churned']/(subscription_churn['Retained']+subscription_churn['Retained']))*100,2)\n",
    "print(subscription_churn)"
   ]
  },
  {
   "cell_type": "markdown",
   "id": "5fcde496-d3a3-44c1-a045-cdbc1b47f02b",
   "metadata": {},
   "source": [
    "#### Interpretation of Subscription Type vs Churn\n",
    "\n",
    "- Users on the **Basic** plan have the **highest churn count** (55) and a churn rate of **11.55%**.\n",
    "- **Premium** and **Standard** plans have slightly lower churn rates at ~10%.\n",
    "- The **'unknown'** category has the **highest churn rate** at **14.10%**, though the sample size is smaller — possibly indicating issues with onboarding or data collection.\n",
    "\n",
    "These trends suggest that users on lower or undefined plans are **more likely to churn**, which could guide targeted retention offers or pricing adjustments.\n"
   ]
  },
  {
   "cell_type": "markdown",
   "id": "11c3ba77-0646-45ea-a492-4838812f2fc2",
   "metadata": {},
   "source": [
    "# Lets see the Visualisation with a count plot to make it more clear"
   ]
  },
  {
   "cell_type": "code",
   "execution_count": 86,
   "id": "cabe904b-02cd-4a30-bf0a-f4f404cc360b",
   "metadata": {},
   "outputs": [
    {
     "data": {
      "image/png": "[encoded data removed]",
      "text/plain": [
       "<Figure size 600x400 with 1 Axes>"
      ]
     },
     "metadata": {},
     "output_type": "display_data"
    }
   ],
   "source": [
    "#plot\n",
    "plt.figure(figsize=(6,4))\n",
    "sns.countplot(data=file,x='SubscriptionType',hue='Churn',palette='Set2')\n",
    "plt.title('churn vs Subscription Type')\n",
    "plt.legend(title='Status',labels=['retained','Churned'])\n",
    "plt.xlabel('Subscription')\n",
    "plt.ylabel('Number of Users')\n",
    "\n",
    "plt.grid(axis='y', linestyle='--', alpha=0.7)\n"
   ]
  },
  {
   "cell_type": "markdown",
   "id": "64ddefe7-6999-4911-b5a0-45fa9fe3955e",
   "metadata": {},
   "source": [
    "### Churn by Payment Method\n",
    "\n",
    "Payment behavior can influence churn — for example, users paying via auto-renewing methods may be more likely to stay. Here, we examine churn across different payment methods to find such patterns.\n",
    "- Lets find out the churn and churn rate for different payment type\n",
    "- "
   ]
  },
  {
   "cell_type": "code",
   "execution_count": 91,
   "id": "b7f15a46-d772-4660-994d-7c11068c576e",
   "metadata": {},
   "outputs": [
    {
     "data": {
      "text/plain": [
       "Index(['AccountAge', 'MonthlyCharges', 'TotalCharges', 'SubscriptionType',\n",
       "       'PaymentMethod', 'PaperlessBilling', 'ContentType', 'MultiDeviceAccess',\n",
       "       'DeviceRegistered', 'ViewingHoursPerWeek', 'AverageViewingDuration',\n",
       "       'ContentDownloadsPerMonth', 'GenrePreference', 'UserRating',\n",
       "       'SupportTicketsPerMonth', 'Gender', 'WatchlistSize', 'ParentalControl',\n",
       "       'CustomerID', 'Churn'],\n",
       "      dtype='object')"
      ]
     },
     "execution_count": 91,
     "metadata": {},
     "output_type": "execute_result"
    }
   ],
   "source": [
    "file.columns"
   ]
  },
  {
   "cell_type": "code",
   "execution_count": 95,
   "id": "1c4be5fd-2851-4ba0-8939-749a133fc0df",
   "metadata": {},
   "outputs": [
    {
     "name": "stdout",
     "output_type": "stream",
     "text": [
      "                  Retained  churned  Churn Rate %\n",
      "PaymentMethod                                    \n",
      "Bank transfer          178       36         16.82\n",
      "Credit card            208       37         15.10\n",
      "Electronic check       178       36         16.82\n",
      "Mailed check            49       18         26.87\n",
      "unknown                181       42         18.83\n"
     ]
    }
   ],
   "source": [
    "payment_churn=file.groupby(['PaymentMethod','Churn']).size().unstack().fillna(0)\n",
    "payment_churn.columns=['Retained','churned']\n",
    "payment_churn['Churn Rate %']=round((payment_churn.churned/(payment_churn['Retained']+payment_churn['churned']))*100,2)\n",
    "print(payment_churn)"
   ]
  },
  {
   "cell_type": "markdown",
   "id": "68fa500b-e8b8-47cc-beba-f3996edbda5e",
   "metadata": {},
   "source": [
    "#### Interpretation of Payment Method vs Churn\n",
    "\n",
    "- **Mailed check** users show the **highest churn rate at 26.87%**, suggesting manual or delayed payment modes correlate with poor retention.\n",
    "- **Electronic check** and **Bank transfer** both have a churn rate of **16.82%** — relatively high.\n",
    "- **Credit card** users churn less, at **15.10%**, hinting that auto-pay or seamless transactions reduce friction and improve retention.\n",
    "- The **'unknown'** category still shows a high churn rate (**18.83%**), again pointing to possible onboarding or data quality issues.\n",
    "\n",
    "📌 This suggests businesses should **promote digital auto-pay methods** and possibly investigate churn among mailed/unknown payment users.\n",
    "- Lets see a countplot again for visual clarification and remove unknown data\n"
   ]
  },
  {
   "cell_type": "code",
   "execution_count": 101,
   "id": "7dfaf69e-8331-4157-aeed-ae29df14eb38",
   "metadata": {},
   "outputs": [
    {
     "data": {
      "image/png": "[encoded data removed]",
      "text/plain": [
       "<Figure size 800x600 with 1 Axes>"
      ]
     },
     "metadata": {},
     "output_type": "display_data"
    }
   ],
   "source": [
    "# visual plot\n",
    "plt.figure(figsize=(8,6))\n",
    "sns.countplot(data=file[file.PaymentMethod!='unknown'],x='PaymentMethod',hue='Churn',palette='Set2')\n",
    "plt.title('Pay Method vs Retention')\n",
    "plt.xlabel('payment Type')\n",
    "plt.ylabel('Number of Users')\n",
    "plt.legend(title='status',labels=['retained','churned'])\n",
    "plt.grid(axis='y', linestyle='--', alpha=0.7);"
   ]
  },
  {
   "cell_type": "markdown",
   "id": "bea78e69-c953-4bc9-9d19-d3bd0f484fc8",
   "metadata": {},
   "source": [
    "### Monthly Charges vs Churn\n",
    "\n",
    "Price plays a critical role in user retention. We now examine how the average monthly charges differ between churned and retained users.\n",
    "\n",
    "This helps answer:\n",
    "- Are users with higher monthly charges more likely to churn?\n",
    "- Or are low-paying users more likely to leave due to lack of perceived value?\n"
   ]
  },
  {
   "cell_type": "code",
   "execution_count": 108,
   "id": "b8bafaaa-64aa-483f-b12e-05cced8302cc",
   "metadata": {},
   "outputs": [
    {
     "name": "stdout",
     "output_type": "stream",
     "text": [
      "Churn\n",
      "0    12.09\n",
      "1    13.27\n",
      "Name: MonthlyCharges, dtype: float64\n"
     ]
    }
   ],
   "source": [
    "month=file.groupby('Churn').MonthlyCharges.mean().round(2)\n",
    "print(month);"
   ]
  },
  {
   "cell_type": "markdown",
   "id": "715d84b3-d6b9-4ba0-b4ec-cfd92e7d7722",
   "metadata": {},
   "source": [
    "# We can see that the avg monthly price for churned is slightly higher\n",
    "- This suggest as the price goes up the churning rate also increases comparatively\n",
    "- Chunred users pay 13.27 in average which is slightly higher"
   ]
  },
  {
   "cell_type": "code",
   "execution_count": 111,
   "id": "9e05347a-d7d5-40b0-bb9b-1267215a2870",
   "metadata": {},
   "outputs": [
    {
     "data": {
      "image/png": "[encoded data removed]",
      "text/plain": [
       "<Figure size 600x500 with 1 Axes>"
      ]
     },
     "metadata": {},
     "output_type": "display_data"
    }
   ],
   "source": [
    "plt.figure(figsize=(6,5))\n",
    "sns.boxplot(data=file, x='Churn', y='MonthlyCharges', palette='Set2')\n",
    "plt.title('Monthly Charges vs Churn')\n",
    "plt.xlabel('Churn')\n",
    "plt.ylabel('Monthly Charges')\n",
    "plt.xticks([0, 1], ['Retained', 'Churned'])\n",
    "plt.grid(axis='y', linestyle='--', alpha=0.7)\n",
    "\n"
   ]
  },
  {
   "cell_type": "markdown",
   "id": "d52807d9-5ff6-43c4-961a-17c8b96e6838",
   "metadata": {},
   "source": [
    "## Behavioral Patterns and Churn\n",
    "\n",
    "To understand user retention, we analyze both engagement (e.g., how much time users spend) and content preferences (what they consume). This helps identify whether lack of engagement or mismatched content is driving churn.\n"
   ]
  },
  {
   "cell_type": "code",
   "execution_count": 166,
   "id": "2548ce10-ae86-4748-bc4e-e1fcd1f85ec1",
   "metadata": {},
   "outputs": [
    {
     "name": "stdout",
     "output_type": "stream",
     "text": [
      "Average Viewing Hours per Week:\n",
      "   churn  avg_time_week\n",
      "0      0          21.69\n",
      "1      1          17.93\n"
     ]
    }
   ],
   "source": [
    "# Average Viewing Hours for churned vs retained\n",
    "viewing_churn = file.groupby('Churn')['ViewingHoursPerWeek'].mean().round(2).reset_index()\n",
    "viewing_churn.columns=['churn','avg_time_week']\n",
    "print(\"Average Viewing Hours per Week:\")\n",
    "print(viewing_churn);\n"
   ]
  },
  {
   "cell_type": "code",
   "execution_count": 131,
   "id": "faf96eb2-29d3-404b-8f86-341ba45e9c9a",
   "metadata": {},
   "outputs": [
    {
     "data": {
      "image/png": "[encoded data removed]",
      "text/plain": [
       "<Figure size 640x480 with 1 Axes>"
      ]
     },
     "metadata": {},
     "output_type": "display_data"
    }
   ],
   "source": [
    "#boxplot\n",
    "sns.set_style('whitegrid')\n",
    "sns.boxplot(data=file,x='Churn',y='ViewingHoursPerWeek',palette='Set2')\n",
    "plt.title('Viewing_hours_per_week vs churn avg' )\n",
    "plt.xlabel('Status')\n",
    "plt.xticks([0,1],['Retained','Churned'])\n",
    "plt.grid(axis='y',linestyle='--',alpha=0.7)"
   ]
  },
  {
   "cell_type": "markdown",
   "id": "9ec9f122-70a0-4838-a160-c7293634f8fd",
   "metadata": {},
   "source": [
    "### Viewing Hours per Week vs Churn\n",
    "\n",
    "One of the most direct measures of engagement is how much time a user spends on the platform weekly. Here, we compare the average `ViewingHoursPerWeek` between churned and retained users.\n",
    "\n",
    "#### Observations:\n",
    "- **Retained users watch ~21.69 hours/week**\n",
    "- **Churned users watch only ~17.93 hours/week**\n",
    "\n",
    "This suggests that **lower engagement is strongly linked to churn**. Users who are not consuming enough content are more likely to leave, possibly due to a lack of interest, time, or content relevance.\n",
    "\n",
    "Improving engagement — through personalized recommendations, notifications, or content variety — could reduce churn.\n"
   ]
  },
  {
   "cell_type": "markdown",
   "id": "289e8fac-1f14-4181-8336-4356a3b51cc1",
   "metadata": {},
   "source": [
    "# Now lets look into viewing duration and churned rate"
   ]
  },
  {
   "cell_type": "code",
   "execution_count": 163,
   "id": "a947a271-a30c-4610-bd21-6ba42e7caa4b",
   "metadata": {},
   "outputs": [
    {
     "name": "stdout",
     "output_type": "stream",
     "text": [
      "AVG viewing hours and churned rate\n",
      "   churn  avg_time\n",
      "0      0     93.71\n",
      "1      1     76.79\n"
     ]
    }
   ],
   "source": [
    "#avg viewingduration\n",
    "avg_duration=file.groupby('Churn').AverageViewingDuration.mean().round(2).reset_index()\n",
    "avg_duration.columns=['churn','avg_time']\n",
    "print(\"AVG viewing hours and churned rate\")\n",
    "print(avg_duration)"
   ]
  },
  {
   "cell_type": "code",
   "execution_count": 138,
   "id": "6565dfad-7ade-40e7-ae3b-5c8906dc59db",
   "metadata": {},
   "outputs": [
    {
     "data": {
      "image/png": "[encoded data removed]",
      "text/plain": [
       "<Figure size 640x480 with 1 Axes>"
      ]
     },
     "metadata": {},
     "output_type": "display_data"
    }
   ],
   "source": [
    "#plot\n",
    "sns.boxplot(data=file,x='Churn',y='AverageViewingDuration',palette='Set1')\n",
    "plt.title('Average Viewing Duration vs Churn')\n",
    "plt.xlabel('Churn')\n",
    "plt.ylabel('Avg Viewing Duration (minutes)')\n",
    "plt.xticks([0, 1], ['Retained', 'Churned'])\n",
    "plt.grid(axis='y',linestyle='-',alpha=0.6)"
   ]
  },
  {
   "cell_type": "markdown",
   "id": "684d8717-08cb-4fc9-a37f-1f21e7f77540",
   "metadata": {},
   "source": [
    "# Ovservations\n",
    "- As we can see the avg viewning hour of churned is quite less than not **retained**\n",
    "- The **Retained** avg is **~94 hrs** whereas the avg hours for churned is lower which is **~77 hrs**\n",
    "-This suggests that **lower time period of session  is strongly linked to churn**. Users who are not consuming enough content are more likely to leave, possibly due to a lack of interest, time, or content relevance."
   ]
  },
  {
   "cell_type": "markdown",
   "id": "548570e7-6430-441d-aed1-e7e011f9b5a1",
   "metadata": {},
   "source": [
    "### Watchlist Size vs Churn\n",
    "\n",
    "The number of items in a user’s watchlist can reflect content interest and future engagement potential. Users who build up large watchlists may be more invested in the platform’s offerings.\n",
    "\n",
    "We compare `WatchlistSize` between churned and retained users to see if there's a connection between content intent and retention.\n"
   ]
  },
  {
   "cell_type": "code",
   "execution_count": 162,
   "id": "53dc5b5b-5486-44e7-8635-84aef3565346",
   "metadata": {},
   "outputs": [
    {
     "name": "stdout",
     "output_type": "stream",
     "text": [
      "   churn   size\n",
      "0      0  11.79\n",
      "1      1  12.41\n"
     ]
    }
   ],
   "source": [
    "#Watchlist vs churn\n",
    "watch=file.groupby('Churn')['WatchlistSize'].mean().round(2).reset_index()\n",
    "watch.columns=['churn','size']\n",
    "print(watch)"
   ]
  },
  {
   "cell_type": "code",
   "execution_count": 154,
   "id": "5edecd49-aad2-4710-b671-585774b77b87",
   "metadata": {},
   "outputs": [
    {
     "data": {
      "image/png": "[encoded data removed]",
      "text/plain": [
       "<Figure size 600x500 with 1 Axes>"
      ]
     },
     "metadata": {},
     "output_type": "display_data"
    }
   ],
   "source": [
    "plt.figure(figsize=(6,5))\n",
    "sns.boxplot(data=file, x='Churn', y='WatchlistSize', palette='magma')\n",
    "plt.title('Watchlist Size vs Churn')\n",
    "plt.xlabel('Churn')\n",
    "plt.ylabel('Watchlist Size')\n",
    "plt.xticks([0, 1], ['Retained', 'Churned'])\n",
    "plt.grid(axis='y', linestyle='--', alpha=0.6)\n",
    "\n"
   ]
  },
  {
   "cell_type": "markdown",
   "id": "eb6f9249-2de6-489d-945f-0065306414b5",
   "metadata": {},
   "source": [
    "### Content Downloads vs Churn\n",
    "\n",
    "Offline downloads indicate strong interest in content — often associated with engaged users who want to consume content on-the-go or without interruptions.\n",
    "\n",
    "However, in this dataset:\n",
    "\n",
    "- **Retained users download ~11.79 items/month**\n",
    "- **Churned users download slightly more: ~12.41 items/month**\n",
    "\n",
    "\n",
    "Surprisingly, churned users show a slightly higher download rate. This may point to a behavior where users **bulk-download content before cancelling** — possibly due to:\n",
    "\n",
    "- Strategic churn (downloading before a planned exit)\n",
    "- Network/region-based usage patterns (foreign/international users)\n",
    "- Short-term binge intent without long-term platform loyalty\n",
    "* This shows that people downloading more are not satisfied with the  available contents and keep searching new unique contents\n",
    "* This results in switching platform and opting for new\n",
    "  # Lets dive deeper into aspects like genre and contents\n"
   ]
  },
  {
   "cell_type": "markdown",
   "id": "594877bb-2aa9-4fae-969c-ef377f961953",
   "metadata": {},
   "source": [
    "### Content Type vs Churn\n",
    "\n",
    "Different users may prefer different types of content — movies, series, documentaries, etc. Analyzing churn across `ContentType` helps us understand which formats retain users better.\n",
    "\n",
    "This can guide content acquisition and recommendation strategies.\n"
   ]
  },
  {
   "cell_type": "code",
   "execution_count": 170,
   "id": "2aee761a-e36a-4244-a5cd-559755c53cd8",
   "metadata": {},
   "outputs": [
    {
     "name": "stdout",
     "output_type": "stream",
     "text": [
      "             retained  churned  churn_rate %\n",
      "ContentType                                 \n",
      "Both              296       53         15.19\n",
      "Movies            242       61         20.13\n",
      "TV Shows          256       55         17.68\n"
     ]
    }
   ],
   "source": [
    "content=file.groupby(['ContentType','Churn']).size().unstack().fillna(0)\n",
    "content.columns=['retained','churned']\n",
    "content['churn_rate %']=round((content.churned/(content.retained+content.churned))*100,2)\n",
    "print(content)"
   ]
  },
  {
   "cell_type": "code",
   "execution_count": 191,
   "id": "7c358b8c-0a42-45be-a64f-8eefd0a9817c",
   "metadata": {},
   "outputs": [
    {
     "data": {
      "text/plain": [
       "Text(0.5, 1.0, 'Content Type vs Retained, Churned Users & Churn Rate')"
      ]
     },
     "execution_count": 191,
     "metadata": {},
     "output_type": "execute_result"
    },
    {
     "data": {
      "image/png": "[encoded data removed]",
      "text/plain": [
       "<Figure size 800x500 with 2 Axes>"
      ]
     },
     "metadata": {},
     "output_type": "display_data"
    }
   ],
   "source": [
    "fig, ax1 = plt.subplots(figsize=(8, 5))\n",
    "\n",
    "# Bar plot for Retained and Churned\n",
    "x = np.arange(len(content))\n",
    "width = 0.3\n",
    "\n",
    "ax1.bar(x - width/2, content['retained'], width=width, label='Retained', color='#4CAF50')\n",
    "ax1.bar(x + width/2, content['churned'], width=width, label='Churned', color='#F44336')\n",
    "ax1.set_xlabel('Content Type')\n",
    "ax1.set_ylabel('User Count')\n",
    "ax1.set_xticks(x)\n",
    "ax1.set_xticklabels(content.index)\n",
    "ax1.legend(loc='upper left')\n",
    "ax1.grid(axis='y', linestyle='--', alpha=0.5)\n",
    "\n",
    "# Secondary y-axis for Churn Rate\n",
    "ax2 = ax1.twinx()\n",
    "ax2.plot(x, content['churn_rate %'], color='#2196F3', marker='o', label='Churn Rate (%)')\n",
    "ax2.set_ylabel('Churn Rate (%)')\n",
    "ax2.legend(loc='upper right')\n",
    "\n",
    "plt.title('Content Type vs Retained, Churned Users & Churn Rate')\n",
    "\n",
    "\n"
   ]
  },
  {
   "cell_type": "markdown",
   "id": "ce0be761-bdd9-422c-91c4-a57aeb5fe10d",
   "metadata": {},
   "source": [
    "### Content Type vs Churn\n",
    "\n",
    "Understanding what type of content users engage with helps in tailoring content strategy. In this case, we analyzed churn patterns across different `ContentType` preferences:\n",
    "\n",
    "| Content Type | Retained Users | Churned Users | Churn Rate (%) |\n",
    "|--------------|----------------|----------------|----------------|\n",
    "| Both         | 296            | 53             | 15.19          |\n",
    "| Movies       | 242            | 61             | 20.13          |\n",
    "| TV Shows     | 256            | 55             | 17.68          |\n",
    "\n",
    "#### Key Takeaways:\n",
    "- Users who engage with **both movies and TV shows** churn **the least (15.19%)**\n",
    "- Those focused only on **movies** have the **highest churn (20.13%)**\n",
    "- TV-only viewers fall in between\n",
    "\n",
    "This suggests that encouraging users to explore **diverse content formats** could help reduce churn. More holistic engagement across formats = stronger retention.\n"
   ]
  },
  {
   "cell_type": "markdown",
   "id": "e6202f77-cea0-4033-8d0c-a12ee6be88a9",
   "metadata": {},
   "source": [
    "# Lets now see genre Preference vs churned rate and not include the unknow data"
   ]
  },
  {
   "cell_type": "code",
   "execution_count": 196,
   "id": "4efd8673-d1b4-45dc-ab40-2fabd14c7af4",
   "metadata": {},
   "outputs": [
    {
     "name": "stdout",
     "output_type": "stream",
     "text": [
      "                 retained  churned  churn_rate %\n",
      "GenrePreference                                 \n",
      "Action                144       34         19.10\n",
      "Comedy                164       32         16.33\n",
      "Drama                 151       34         18.38\n",
      "Fantasy               159       26         14.05\n",
      "Sci-Fi                 88       21         19.27\n"
     ]
    }
   ],
   "source": [
    "genre=file[file.GenrePreference!='unknown'].groupby(['GenrePreference','Churn']).size().unstack().fillna(0)\n",
    "genre.columns=['retained','churned']\n",
    "genre['churn_rate %']=round((genre.churned/(genre.churned+genre.retained))*100,2)\n",
    "print(genre)"
   ]
  },
  {
   "cell_type": "code",
   "execution_count": 197,
   "id": "49038a81-ec28-411d-82f1-396132341ae6",
   "metadata": {},
   "outputs": [
    {
     "data": {
      "image/png": "[encoded data removed]",
      "text/plain": [
       "<Figure size 800x500 with 2 Axes>"
      ]
     },
     "metadata": {},
     "output_type": "display_data"
    }
   ],
   "source": [
    "fig, ax1 = plt.subplots(figsize=(8, 5))\n",
    "\n",
    "# Bar plot for Retained and Churned\n",
    "\n",
    "x = np.arange(len(genre))\n",
    "width = 0.3\n",
    "\n",
    "ax1.bar(x - width/2, genre['retained'], width=width, label='Retained', color='#4CAF50')\n",
    "ax1.bar(x + width/2, genre['churned'], width=width, label='Churned', color='#F44336')\n",
    "ax1.set_xlabel('Content Type')\n",
    "ax1.set_ylabel('User Count')\n",
    "ax1.set_xticks(x)\n",
    "ax1.set_xticklabels(genre.index)\n",
    "ax1.legend(loc='upper left')\n",
    "ax1.grid(axis='y', linestyle='--', alpha=0.5)\n",
    "\n",
    "# Secondary y-axis for Churn Rate\n",
    "ax2 = ax1.twinx()\n",
    "ax2.plot(x, genre['churn_rate %'], color='#2196F3', marker='o', label='Churn Rate (%)')\n",
    "ax2.set_ylabel('Churn Rate (%)')\n",
    "ax2.legend(loc='upper right')\n",
    "\n",
    "plt.title('Genre vs Retained, Churned Users & Churn Rate');\n"
   ]
  },
  {
   "cell_type": "markdown",
   "id": "01eb8b15-45c0-4488-a7d6-ea2711bef29a",
   "metadata": {},
   "source": [
    "### Genre Preference vs Churn\n",
    "\n",
    "The following analysis examines how users' preferred genres correlate with churn behavior. Here's a summary:\n",
    "\n",
    "#### Key Insights:\n",
    "- **Fantasy** genre users have the **lowest churn rate** (14.05%)\n",
    "- **Sci-Fi** and **Action** fans have higher churn rates (~19%+)\n",
    "\n",
    "Improving personalization and recommendations for high-risk genres could reduce churn.\n",
    "\n"
   ]
  },
  {
   "cell_type": "markdown",
   "id": "6c926f1d-d609-435d-bd95-1d5beafdc53b",
   "metadata": {},
   "source": [
    "📌 Feature Engineering\n",
    "- Before feeding the data into machine learning models, it's essential to transform it into a clean, numerical format. This step ensures that the models can correctly interpret and learn from the data. Below are the key preprocessing steps we applied:\n",
    "\n",
    "- Binary Encoding:\n",
    "Columns with 'Yes'/'No' values (e.g., PaperlessBilling, ParentalControl, MultiDeviceAccess) were converted into binary 1/0 format for compatibility with machine learning algorithms.\n",
    "\n",
    "- One-Hot Encoding:\n",
    "Categorical variables such as SubscriptionType, PaymentMethod, ContentType, GenrePreference, and Gender were transformed into numerical features using one-hot encoding. This allows the model to interpret categories without assuming any ordinal relationship.\n",
    "\n",
    "\n",
    "\n",
    "- Scaling Numerical Features:\n"
   ]
  },
  {
   "cell_type": "code",
   "execution_count": 205,
   "id": "f1286612-87eb-4c81-83dd-f372730d666a",
   "metadata": {},
   "outputs": [],
   "source": [
    "binary_cols = ['PaperlessBilling', 'MultiDeviceAccess', 'ParentalControl'] \n",
    "file[binary_cols]=file[binary_cols].replace({'Yes':1,'No':0})"
   ]
  },
  {
   "cell_type": "code",
   "execution_count": 222,
   "id": "d40260d4-b861-4801-877c-b4ea5fbf56ea",
   "metadata": {},
   "outputs": [],
   "source": [
    "categorical_columns=['SubscriptionType','PaymentMethod','ContentType','GenrePreference','Gender']\n",
    "filtered=file.copy();\n",
    "for cols in categorical_columns:\n",
    "    filtered=filtered[filtered[cols]!='unknown']\n",
    "\n",
    "filtered['Gender']=filtered['Gender'].replace({'Male':1,'Female':0})"
   ]
  },
  {
   "cell_type": "code",
   "execution_count": 223,
   "id": "8f3e59b0-d1da-486a-82bd-5b62b19e357c",
   "metadata": {},
   "outputs": [],
   "source": [
    "cate=['SubscriptionType','PaymentMethod','ContentType','GenrePreference']\n",
    "filtered=pd.get_dummies(filtered,columns=cate,drop_first=True)"
   ]
  },
  {
   "cell_type": "code",
   "execution_count": 237,
   "id": "18834106-dc9b-4d58-a721-c2bc1aeae854",
   "metadata": {},
   "outputs": [],
   "source": [
    "filtered.drop(columns=['CustomerID'],inplace=True)"
   ]
  },
  {
   "cell_type": "code",
   "execution_count": 239,
   "id": "dee6278a-d13b-4a84-bf06-7d6eca618180",
   "metadata": {},
   "outputs": [],
   "source": [
    "filtered=pd.get_dummies(filtered,columns=['DeviceRegistered'],drop_first=True)"
   ]
  },
  {
   "cell_type": "markdown",
   "id": "fef63c4e-3366-4359-9b17-c797af73bc20",
   "metadata": {},
   "source": [
    "## Model Building & Evaluation\n",
    "\n",
    "We now prepare our data for modeling. The target variable `Churn` is separated from the features, and the data is split into training and testing sets to evaluate performance fairly.\n",
    "\n",
    "We start with Logistic Regression as a baseline classifier. It's interpretable and a strong first step to benchmark other models.\n",
    "\n",
    "The classification report shows how well the model performs in terms of precision, recall, and F1-score.\n"
   ]
  },
  {
   "cell_type": "code",
   "execution_count": 246,
   "id": "6e461ad8-af35-4ff0-ae7e-e51706a1c4ad",
   "metadata": {},
   "outputs": [],
   "source": [
    "X = filtered.drop('Churn', axis=1)\n",
    "y = filtered['Churn']\n"
   ]
  },
  {
   "cell_type": "code",
   "execution_count": 247,
   "id": "4e67c599-ff87-445d-ad6d-6e270e01e6bf",
   "metadata": {},
   "outputs": [],
   "source": [
    "from sklearn.model_selection import train_test_split\n",
    "X_train,X_test,y_train,y_test=train_test_split(X,y,test_size=0.2,random_state=42,stratify=y)"
   ]
  },
  {
   "cell_type": "markdown",
   "id": "2c56b702-e062-4de7-b4a1-003cc4c40b03",
   "metadata": {},
   "source": [
    "### Train-Test Split\n",
    "\n",
    "To evaluate the model fairly, we split the dataset into training and testing sets using an 80/20 ratio. We also apply stratified sampling to maintain the proportion of churned vs. retained customers in both sets.\n",
    "\n",
    "This ensures that our model gets a balanced view of both classes during training and evaluation.\n"
   ]
  },
  {
   "cell_type": "code",
   "execution_count": 248,
   "id": "1fbf4ee0-725d-495f-a074-5dafb7e5da43",
   "metadata": {},
   "outputs": [],
   "source": [
    "from sklearn.linear_model import LogisticRegression\n",
    "from sklearn.metrics import classification_report,confusion_matrix\n",
    "model=LogisticRegression(max_iter=1000)\n",
    "model.fit(X_train,y_train)\n",
    "y_pred=model.predict(X_test)"
   ]
  },
  {
   "cell_type": "code",
   "execution_count": 251,
   "id": "a75c94ad-d5c2-4e48-b35b-ec19d6485e56",
   "metadata": {},
   "outputs": [
    {
     "name": "stdout",
     "output_type": "stream",
     "text": [
      "Confusion_Matrix:\n",
      " [[96  4]\n",
      " [14  7]]\n"
     ]
    }
   ],
   "source": [
    "print('Confusion_Matrix:\\n',confusion_matrix(y_test,y_pred));\n"
   ]
  },
  {
   "cell_type": "code",
   "execution_count": 252,
   "id": "37195029-69d5-409c-8588-b99e36d9b19e",
   "metadata": {},
   "outputs": [
    {
     "name": "stdout",
     "output_type": "stream",
     "text": [
      "classification_report:\n",
      "               precision    recall  f1-score   support\n",
      "\n",
      "           0       0.87      0.96      0.91       100\n",
      "           1       0.64      0.33      0.44        21\n",
      "\n",
      "    accuracy                           0.85       121\n",
      "   macro avg       0.75      0.65      0.68       121\n",
      "weighted avg       0.83      0.85      0.83       121\n",
      "\n"
     ]
    }
   ],
   "source": [
    "print('classification_report:\\n',classification_report(y_test,y_pred));"
   ]
  },
  {
   "cell_type": "markdown",
   "id": "845c94a5-dca9-4407-89d3-5e9e4d4fdc93",
   "metadata": {},
   "source": [
    "🔍 Key Observations:\n",
    "The model performs well for the majority class (retained customers).\n",
    "\n",
    "Performance is weaker for the minority class (churned customers), especially recall (33%).\n",
    "\n",
    "This is likely due to class imbalance, a common issue in churn datasets.\n",
    "\n",
    "\n",
    "Logistic Regression may not be the best fit for capturing complex churn behavior.\n",
    "\n",
    "✅ Takeaway:\n",
    "This model gives us a baseline. Though accuracy is high (85%), the low recall for churned customers indicates the need for improvement. In a business context, missing potential churners can be costly — so future steps could include:\n",
    "\n",
    "Applying class balancing techniques (e.g., class weights, SMOTE).\n",
    "\n",
    "Trying more complex models (e.g., Random Forest, XGBoost).\n",
    "\n",
    "Adding more behavioral or transactional features."
   ]
  },
  {
   "cell_type": "markdown",
   "id": "5b1c07ba-ffe2-43ad-b91c-37e18a97bfad",
   "metadata": {},
   "source": [
    "📊 Exploratory Data Analysis (EDA)\n",
    "🔹 Demographic Insights\n",
    "Gender: Churn rate was slightly higher among male customers.\n",
    "\n",
    "Subscription Type: Basic monthly subscribers had the highest churn rate (~37.74%), followed by Premium and Standard.\n",
    "\n",
    "Payment Method: Mailed check users showed significantly higher churn (26.87%) compared to electronic and credit card users.\n",
    "\n",
    "🔹 Behavioral Insights\n",
    "Viewing Hours: Churned users watched slightly more hours weekly (12.41 hrs) than retained users (11.79 hrs).\n",
    "\n",
    "Content Type Preference: Users preferring only movies had a higher churn rate (~20.13%) than those who preferred both TV and movies (~15.19%).\n",
    "\n",
    "Genre Preference: Sci-Fi and Action lovers showed higher churn.\n",
    "\n",
    "🔹 Pricing Analysis\n",
    "Monthly Fee had a positive relationship with churn rate. Higher price segments tended to have slightly more churn, especially among Basic plans.\n",
    "\n",
    "🛠️ Feature Engineering\n",
    "Handled missing values and removed columns with too many nulls (e.g., SubtitlesEnabled).\n",
    "\n",
    "Removed rows with 'unknown' in key categorical columns.\n",
    "\n",
    "Applied one-hot encoding to all categorical variables, carefully avoiding multicollinearity.\n",
    "\n"
   ]
  },
  {
   "cell_type": "code",
   "execution_count": null,
   "id": "6b80b073-c532-4e19-be4b-2538d1445c91",
   "metadata": {},
   "outputs": [],
   "source": []
  },
  {
   "cell_type": "code",
   "execution_count": null,
   "id": "2c34316a-0b64-45b8-9d0b-a26e166a8306",
   "metadata": {},
   "outputs": [],
   "source": []
  },
  {
   "cell_type": "code",
   "execution_count": null,
   "id": "4fe73d09-75fd-4c93-a063-93e8d5bc0538",
   "metadata": {},
   "outputs": [],
   "source": []
  }
 ],
 "metadata": {
  "kernelspec": {
   "display_name": "Python 3 (ipykernel)",
   "language": "python",
   "name": "python3"
  },
  "language_info": {
   "codemirror_mode": {
    "name": "ipython",
    "version": 3
   },
   "file_extension": ".py",
   "mimetype": "text/x-python",
   "name": "python",
   "nbconvert_exporter": "python",
   "pygments_lexer": "ipython3",
   "version": "3.13.3"
  }
 },
 "nbformat": 4,
 "nbformat_minor": 5
}
